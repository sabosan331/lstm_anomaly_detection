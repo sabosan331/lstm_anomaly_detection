{
 "cells": [
  {
   "cell_type": "markdown",
   "metadata": {},
   "source": [
    "# Anomaly Detection using LSTM"
   ]
  },
  {
   "cell_type": "code",
   "execution_count": 2,
   "metadata": {},
   "outputs": [],
   "source": [
    "# making model using one data, so result must be good unnaturaly.\n",
    "%matplotlib inline\n",
    "import matplotlib.pyplot as plt\n",
    "import pandas as pd \n",
    "import numpy as np \n",
    "from sklearn.model_selection import train_test_split\n",
    "from copy import deepcopy\n",
    "from sklearn.preprocessing import StandardScaler"
   ]
  },
  {
   "cell_type": "markdown",
   "metadata": {},
   "source": [
    "# Load and Show Data"
   ]
  },
  {
   "cell_type": "code",
   "execution_count": 3,
   "metadata": {},
   "outputs": [
    {
     "data": {
      "image/png": "[encoded data removed]",
      "text/plain": [
       "<Figure size 1080x288 with 1 Axes>"
      ]
     },
     "metadata": {
      "needs_background": "light"
     },
     "output_type": "display_data"
    },
    {
     "name": "stdout",
     "output_type": "stream",
     "text": [
      "data pint : 5000\n"
     ]
    }
   ],
   "source": [
    "# load data\n",
    "df = pd.read_csv(\"./qtdbsel102.txt\",header=None, delimiter=\"\\t\")\n",
    "engin_data = df.iloc[:,0].values\n",
    "engin_data = engin_data.reshape(len(engin_data), -1)\n",
    "\n",
    "# scaling\n",
    "scl = StandardScaler()\n",
    "engin_data = scl.fit_transform(engin_data)\n",
    "\n",
    "# show data\n",
    "plt.figure(figsize=(15,4))\n",
    "plt.plot( engin_data , color = '#00008b', label=\"engin_data\")\n",
    "plt.legend()\n",
    "plt.show()\n",
    "print(\"data pint : \" + str( len(engin_data)) )"
   ]
  },
  {
   "cell_type": "markdown",
   "metadata": {},
   "source": [
    "# Creating Subsequence Datas"
   ]
  },
  {
   "cell_type": "code",
   "execution_count": 4,
   "metadata": {},
   "outputs": [
    {
     "name": "stdout",
     "output_type": "stream",
     "text": [
      "(1429, 10, 1) (1429, 3) (358, 10, 1) (358, 3)\n"
     ]
    }
   ],
   "source": [
    "# y = LSTM(x)\n",
    "def create_input_and_output_sequneces(time_series, look_back, output_length):\n",
    "    input_seq, output_seq = [], []\n",
    "    for i in range(len(time_series)-look_back-output_length):\n",
    "        input_seq.append(time_series[i:i+look_back])\n",
    "        output_seq.append(time_series[i+look_back:i+look_back+output_length].T[0])\n",
    "    return np.array(input_seq), np.array(output_seq)\n",
    "\n",
    "look_back = 10\n",
    "output_length = 3\n",
    "\n",
    "ok_data = engin_data[2000:3800]\n",
    "data_X, data_y = create_input_and_output_sequneces(ok_data, look_back, output_length)\n",
    "X_train, X_val, y_train, y_val = train_test_split(data_X, data_y, test_size=0.2)\n",
    "print( X_train.shape , y_train.shape, X_val.shape, y_val.shape )"
   ]
  },
  {
   "cell_type": "markdown",
   "metadata": {},
   "source": [
    "# Model Definition"
   ]
  },
  {
   "cell_type": "code",
   "execution_count": 6,
   "metadata": {},
   "outputs": [],
   "source": [
    "import torch\n",
    "import torch.nn as nn\n",
    "\n",
    "class MyLSTM(nn.Module):\n",
    "    def __init__(self, inputDim, hiddenDim, outputDim):\n",
    "        super(MyLSTM, self).__init__()\n",
    "\n",
    "        self.rnn = nn.LSTM(input_size = inputDim,\n",
    "                            hidden_size = hiddenDim,\n",
    "                            batch_first = True)\n",
    "        self.output_layer = nn.Linear(hiddenDim, outputDim)\n",
    "        self.dropout = nn.Dropout(0.3)\n",
    "    \n",
    "    def forward(self, inputs, hidden0=None):\n",
    "        output, (hidden, cell) = self.rnn(inputs, hidden0) #LSTM層\n",
    "        output = self.dropout(output)\n",
    "        output = self.output_layer(output[:, -1, :]) #全結合層\n",
    "        \n",
    "        return output"
   ]
  },
  {
   "cell_type": "code",
   "execution_count": 7,
   "metadata": {},
   "outputs": [],
   "source": [
    "import torch.optim as optim\n",
    "\n",
    "vec_size, hidden_size, out_dim = 1, 16, 3\n",
    "model = MyLSTM(vec_size, hidden_size, out_dim)\n",
    "optimizer = torch.optim.Adam(model.parameters(), lr = 0.001)\n",
    "criterion = nn.MSELoss()"
   ]
  },
  {
   "cell_type": "markdown",
   "metadata": {},
   "source": [
    "# Training Loop, 後でval Loopは書く"
   ]
  },
  {
   "cell_type": "code",
   "execution_count": 9,
   "metadata": {},
   "outputs": [
    {
     "name": "stdout",
     "output_type": "stream",
     "text": [
      "0\n",
      "50\n",
      "100\n",
      "150\n"
     ]
    }
   ],
   "source": [
    "from torch.autograd import Variable\n",
    "\n",
    "best_mse = 1000000\n",
    "trn_mse, val_mse = [], []\n",
    "batch_size = 8\n",
    "epoch_num = 200\n",
    "\n",
    "for epoch in range(epoch_num):\n",
    "    \n",
    "    runnning_loss = 0.0\n",
    "    train_mse = 0.0\n",
    "    \n",
    "    # shuffle and make batch\n",
    "    shuffle_incides = np.random.permutation(np.arange(X_train.shape[0]))\n",
    "    X, y = X_train[shuffle_incides], y_train[shuffle_incides]\n",
    "    \n",
    "    # train loop\n",
    "    for i in range(int(X_train.shape[0]/batch_size)):\n",
    "        \n",
    "        model.train()\n",
    "        optimizer.zero_grad()\n",
    "        startId,endId = i*batch_size, min( (i+1)*batch_size,X_train.shape[0])\n",
    "    \n",
    "        inPut, outPut = X[startId:endId], y[startId:endId]\n",
    "        inPut, outPut = torch.tensor(inPut), torch.tensor(outPut)\n",
    "        inPut, outPut = Variable(inPut), Variable(outPut)\n",
    "        \n",
    "        pred = model(inPut.float())\n",
    "        loss = criterion( pred, outPut.float())\n",
    "        loss.backward()\n",
    "        optimizer.step()\n",
    "    \n",
    "    # val loop 後で作る\n",
    "    if (epoch % 50 == 0):\n",
    "        print(epoch)"
   ]
  },
  {
   "cell_type": "markdown",
   "metadata": {},
   "source": [
    "# Test Loop"
   ]
  },
  {
   "cell_type": "code",
   "execution_count": 12,
   "metadata": {},
   "outputs": [],
   "source": [
    "ng_data = engin_data[4000:5000]\n",
    "X_test, y_test = create_input_and_output_sequneces( ng_data, look_back, output_length)\n",
    "X_test, y_test = np.array(X_test) , np.array(y_test)"
   ]
  },
  {
   "cell_type": "code",
   "execution_count": 30,
   "metadata": {},
   "outputs": [],
   "source": [
    "preds_test = []\n",
    "test_batch = 1\n",
    "\n",
    "for i in range(int(X_test.shape[0]/test_batch)):\n",
    "    model.eval()\n",
    "\n",
    "    startId,endId = i*test_batch, min( (i+1)*test_batch,X_train.shape[0])\n",
    "    inPut, outPut = X_test[startId:endId], y_test[startId:endId]\n",
    "\n",
    "    inPut, outPut = torch.tensor(inPut), torch.tensor(outPut)\n",
    "\n",
    "    pred = model(inPut.float())\n",
    "\n",
    "    preds_test.append(pred.detach().numpy())"
   ]
  },
  {
   "cell_type": "code",
   "execution_count": 31,
   "metadata": {},
   "outputs": [
    {
     "name": "stdout",
     "output_type": "stream",
     "text": [
      "(987, 1, 3)\n"
     ]
    }
   ],
   "source": [
    "preds_test = np.array(preds_test)\n",
    "print(preds_test.shape)\n",
    "preds_test = np.reshape(preds_test,[preds_test.shape[0],output_length])\n",
    "error_test = y_test - preds_test"
   ]
  },
  {
   "cell_type": "code",
   "execution_count": 29,
   "metadata": {},
   "outputs": [
    {
     "name": "stdout",
     "output_type": "stream",
     "text": [
      "987\n"
     ]
    }
   ],
   "source": [
    "print( int(X_test.shape[0]/test_batch) )"
   ]
  },
  {
   "cell_type": "markdown",
   "metadata": {},
   "source": [
    "# Val Loop( caluculating mean and covariance for Mahalanobis DIstance )"
   ]
  },
  {
   "cell_type": "code",
   "execution_count": 35,
   "metadata": {},
   "outputs": [
    {
     "name": "stdout",
     "output_type": "stream",
     "text": [
      "(358, 1, 3)\n"
     ]
    }
   ],
   "source": [
    "preds_val = []\n",
    "val_batch = 1\n",
    "\n",
    "for i in range(int(X_val.shape[0]/val_batch)):\n",
    "   \n",
    "    model.eval()\n",
    "    startId,endId = i*val_batch, min( (i+1)*val_batch,X_val.shape[0])\n",
    "    inPut, outPut = X_val[startId:endId], y_val[startId:endId]\n",
    "    inPut, outPut = torch.tensor(inPut), torch.tensor(outPut)\n",
    "    pred = model(inPut.float())\n",
    "    preds_val.append(pred.detach().numpy())\n",
    "\n",
    "preds_val = np.array(preds_val)\n",
    "print(preds_val.shape)\n",
    "preds_val = np.reshape(preds_val,[preds_val.shape[0],output_length])\n",
    "error_val = y_val - preds_val"
   ]
  },
  {
   "cell_type": "code",
   "execution_count": 36,
   "metadata": {},
   "outputs": [
    {
     "name": "stdout",
     "output_type": "stream",
     "text": [
      "[0.00192149 0.00143862 0.00533553]\n",
      "[[0.00413533 0.00469684 0.00506106]\n",
      " [0.00469684 0.00692289 0.00747243]\n",
      " [0.00506106 0.00747243 0.00903123]]\n"
     ]
    }
   ],
   "source": [
    "mean = np.mean(error_val,axis=0)\n",
    "cov = 0\n",
    "for e in error_val:\n",
    "    cov += np.dot( (e-mean).reshape(len(e),1), (e-mean).reshape(1,len(e)))\n",
    "cov /= len(error_val)\n",
    "print(mean)\n",
    "print(cov)"
   ]
  },
  {
   "cell_type": "code",
   "execution_count": 40,
   "metadata": {},
   "outputs": [
    {
     "name": "stdout",
     "output_type": "stream",
     "text": [
      "(987,)\n"
     ]
    }
   ],
   "source": [
    "def Mahala_distance(x,mean,cov):\n",
    "    d = np.dot(x-mean, np.linalg.inv(cov))\n",
    "    d = np.dot(d, (x-mean).T)\n",
    "    return d\n",
    "\n",
    "errors_test = []\n",
    "for e in error_test:\n",
    "    d = Mahala_distance(e,mean,cov)\n",
    "    errors_test.append(d)\n",
    "    \n",
    "errors_test = np.array(errors_test)\n",
    "print(errors_test.shape)"
   ]
  },
  {
   "cell_type": "code",
   "execution_count": 45,
   "metadata": {},
   "outputs": [
    {
     "data": {
      "text/plain": [
       "<matplotlib.legend.Legend at 0x12ab57550>"
      ]
     },
     "execution_count": 45,
     "metadata": {},
     "output_type": "execute_result"
    },
    {
     "data": {
      "image/png": "[encoded data removed]",
      "text/plain": [
       "<Figure size 432x288 with 1 Axes>"
      ]
     },
     "metadata": {
      "needs_background": "light"
     },
     "output_type": "display_data"
    }
   ],
   "source": [
    "y_test_m = np.sum(y_test,axis=1) / 3\n",
    "preds_m = np.sum(preds_test,axis=1) / 3\n",
    "\n",
    "begin,end = 0,preds_m.shape[0]\n",
    "\n",
    "plt.plot( y_test_m[begin:end], label='trues')\n",
    "plt.plot( preds_m[begin:end], label=\"preds\")\n",
    "plt.legend()\n",
    "plt.show()"
   ]
  },
  {
   "cell_type": "code",
   "execution_count": 47,
   "metadata": {},
   "outputs": [
    {
     "data": {
      "image/png": "[encoded data removed]",
      "text/plain": [
       "<Figure size 432x288 with 1 Axes>"
      ]
     },
     "metadata": {
      "needs_background": "light"
     },
     "output_type": "display_data"
    }
   ],
   "source": [
    "plt.plot( errors_test[begin:end], label='error_value',color=\"red\")\n",
    "plt.legend()\n",
    "plt.show()"
   ]
  }
 ],
 "metadata": {
  "kernelspec": {
   "display_name": "Python 3",
   "language": "python",
   "name": "python3"
  },
  "language_info": {
   "codemirror_mode": {
    "name": "ipython",
    "version": 3
   },
   "file_extension": ".py",
   "mimetype": "text/x-python",
   "name": "python",
   "nbconvert_exporter": "python",
   "pygments_lexer": "ipython3",
   "version": "3.6.7"
  }
 },
 "nbformat": 4,
 "nbformat_minor": 2
}
